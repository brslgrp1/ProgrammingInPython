{
 "cells": [
  {
   "cell_type": "markdown",
   "metadata": {},
   "source": [
    "### Creating an Empty List object"
   ]
  },
  {
   "cell_type": "code",
   "execution_count": 1,
   "metadata": {},
   "outputs": [],
   "source": [
    "a = list()"
   ]
  },
  {
   "cell_type": "markdown",
   "metadata": {},
   "source": [
    "### Displaying the contents of the Empty List object."
   ]
  },
  {
   "cell_type": "code",
   "execution_count": 2,
   "metadata": {},
   "outputs": [
    {
     "data": {
      "text/plain": [
       "[]"
      ]
     },
     "execution_count": 2,
     "metadata": {},
     "output_type": "execute_result"
    }
   ],
   "source": [
    "a"
   ]
  },
  {
   "cell_type": "markdown",
   "metadata": {},
   "source": [
    "### Displaying the total number of elements in the List object. As it is empty it is 0."
   ]
  },
  {
   "cell_type": "code",
   "execution_count": 3,
   "metadata": {},
   "outputs": [
    {
     "data": {
      "text/plain": [
       "0"
      ]
     },
     "execution_count": 3,
     "metadata": {},
     "output_type": "execute_result"
    }
   ],
   "source": [
    "len(a)"
   ]
  },
  {
   "cell_type": "markdown",
   "metadata": {},
   "source": [
    "### Adding a new element (first element) to the List object using the append method/function."
   ]
  },
  {
   "cell_type": "code",
   "execution_count": 5,
   "metadata": {},
   "outputs": [],
   "source": [
    "a.append(10)"
   ]
  },
  {
   "cell_type": "code",
   "execution_count": 6,
   "metadata": {},
   "outputs": [
    {
     "data": {
      "text/plain": [
       "[10]"
      ]
     },
     "execution_count": 6,
     "metadata": {},
     "output_type": "execute_result"
    }
   ],
   "source": [
    "a"
   ]
  },
  {
   "cell_type": "markdown",
   "metadata": {},
   "source": [
    "### Adding a new element to the List object using the insert method/function at a given index 1 that is second element."
   ]
  },
  {
   "cell_type": "code",
   "execution_count": 7,
   "metadata": {},
   "outputs": [],
   "source": [
    "a.insert(1,20)"
   ]
  },
  {
   "cell_type": "code",
   "execution_count": 8,
   "metadata": {},
   "outputs": [
    {
     "data": {
      "text/plain": [
       "[10, 20]"
      ]
     },
     "execution_count": 8,
     "metadata": {},
     "output_type": "execute_result"
    }
   ],
   "source": [
    "a"
   ]
  },
  {
   "cell_type": "markdown",
   "metadata": {},
   "source": [
    "### Removing last element from the List using the pop method/function (default index is -1 what the pop function takes)."
   ]
  },
  {
   "cell_type": "code",
   "execution_count": 9,
   "metadata": {},
   "outputs": [
    {
     "data": {
      "text/plain": [
       "20"
      ]
     },
     "execution_count": 9,
     "metadata": {},
     "output_type": "execute_result"
    }
   ],
   "source": [
    "a.pop()"
   ]
  },
  {
   "cell_type": "markdown",
   "metadata": {},
   "source": [
    "### Contents of the list after removnig the element is as follows."
   ]
  },
  {
   "cell_type": "code",
   "execution_count": 10,
   "metadata": {},
   "outputs": [
    {
     "data": {
      "text/plain": [
       "[10]"
      ]
     },
     "execution_count": 10,
     "metadata": {},
     "output_type": "execute_result"
    }
   ],
   "source": [
    "a"
   ]
  },
  {
   "cell_type": "code",
   "execution_count": 11,
   "metadata": {},
   "outputs": [],
   "source": [
    "a.append(20)"
   ]
  },
  {
   "cell_type": "code",
   "execution_count": 12,
   "metadata": {},
   "outputs": [
    {
     "data": {
      "text/plain": [
       "[10, 20]"
      ]
     },
     "execution_count": 12,
     "metadata": {},
     "output_type": "execute_result"
    }
   ],
   "source": [
    "a"
   ]
  },
  {
   "cell_type": "markdown",
   "metadata": {},
   "source": [
    "### Removing the element from the list using the remove method/function"
   ]
  },
  {
   "cell_type": "code",
   "execution_count": 13,
   "metadata": {},
   "outputs": [],
   "source": [
    "a.remove(10)"
   ]
  },
  {
   "cell_type": "markdown",
   "metadata": {},
   "source": [
    "### After the element is removed from the List object."
   ]
  },
  {
   "cell_type": "code",
   "execution_count": 14,
   "metadata": {},
   "outputs": [
    {
     "data": {
      "text/plain": [
       "[20]"
      ]
     },
     "execution_count": 14,
     "metadata": {},
     "output_type": "execute_result"
    }
   ],
   "source": [
    "a"
   ]
  },
  {
   "cell_type": "markdown",
   "metadata": {},
   "source": [
    "# Creating a choice-driven approach to managing the contents of a List container object..."
   ]
  },
  {
   "cell_type": "code",
   "execution_count": 16,
   "metadata": {},
   "outputs": [],
   "source": [
    "def menuFn():\n",
    "    print(\"1. To create a new Empty List.\")\n",
    "    print('2. Add a new element to the END of the List.')\n",
    "    print('3. To insert element into the list at a given INDEX.')\n",
    "    print('4. Remove element from the List at a given Index.')\n",
    "    print('5. Display complete contents of the list.')\n",
    "    print('6. Search and display if a given element is in the List or not.')\n",
    "    print('7. Exit/close.')\n",
    "    "
   ]
  },
  {
   "cell_type": "code",
   "execution_count": 20,
   "metadata": {},
   "outputs": [
    {
     "name": "stdout",
     "output_type": "stream",
     "text": [
      "1. To create a new Empty List.\n",
      "2. Add a new element to the END of the List.\n",
      "3. To insert element into the list at a given INDEX.\n",
      "4. Remove element from the List.\n",
      "5. Display complete contents of the list.\n",
      "6. Search and display if a given element is in the List or not.\n",
      "7. Exit/close.\n",
      "Select choice of option from the displayed list of options.. 1\n",
      "New list object created\n",
      "1. To create a new Empty List.\n",
      "2. Add a new element to the END of the List.\n",
      "3. To insert element into the list at a given INDEX.\n",
      "4. Remove element from the List.\n",
      "5. Display complete contents of the list.\n",
      "6. Search and display if a given element is in the List or not.\n",
      "7. Exit/close.\n",
      "Select choice of option from the displayed list of options.. 2\n",
      "Enter new element to be appended to the List object :: 10\n",
      "Element added to the list..\n",
      "1. To create a new Empty List.\n",
      "2. Add a new element to the END of the List.\n",
      "3. To insert element into the list at a given INDEX.\n",
      "4. Remove element from the List.\n",
      "5. Display complete contents of the list.\n",
      "6. Search and display if a given element is in the List or not.\n",
      "7. Exit/close.\n",
      "Select choice of option from the displayed list of options.. 2\n",
      "Enter new element to be appended to the List object :: 100\n",
      "Element added to the list..\n",
      "1. To create a new Empty List.\n",
      "2. Add a new element to the END of the List.\n",
      "3. To insert element into the list at a given INDEX.\n",
      "4. Remove element from the List.\n",
      "5. Display complete contents of the list.\n",
      "6. Search and display if a given element is in the List or not.\n",
      "7. Exit/close.\n",
      "Select choice of option from the displayed list of options.. 5\n",
      "The contents of the Sample List is as follows...\n",
      "[10, 100]\n",
      "1. To create a new Empty List.\n",
      "2. Add a new element to the END of the List.\n",
      "3. To insert element into the list at a given INDEX.\n",
      "4. Remove element from the List.\n",
      "5. Display complete contents of the list.\n",
      "6. Search and display if a given element is in the List or not.\n",
      "7. Exit/close.\n",
      "Select choice of option from the displayed list of options.. 3\n",
      "Enter the index of the new element ::  1\n",
      "Enter the element which we want to add to the List :: 30\n",
      "Element added at the given index ::  1\n",
      "1. To create a new Empty List.\n",
      "2. Add a new element to the END of the List.\n",
      "3. To insert element into the list at a given INDEX.\n",
      "4. Remove element from the List.\n",
      "5. Display complete contents of the list.\n",
      "6. Search and display if a given element is in the List or not.\n",
      "7. Exit/close.\n",
      "Select choice of option from the displayed list of options.. 5\n",
      "The contents of the Sample List is as follows...\n",
      "[10, 30, 100]\n",
      "1. To create a new Empty List.\n",
      "2. Add a new element to the END of the List.\n",
      "3. To insert element into the list at a given INDEX.\n",
      "4. Remove element from the List.\n",
      "5. Display complete contents of the list.\n",
      "6. Search and display if a given element is in the List or not.\n",
      "7. Exit/close.\n",
      "Select choice of option from the displayed list of options.. 4\n",
      "Total number of elements in the List ::  3\n",
      "Enter valid index of the element to be removed ::0\n",
      "Element removed/popped from the list..\n",
      "1. To create a new Empty List.\n",
      "2. Add a new element to the END of the List.\n",
      "3. To insert element into the list at a given INDEX.\n",
      "4. Remove element from the List.\n",
      "5. Display complete contents of the list.\n",
      "6. Search and display if a given element is in the List or not.\n",
      "7. Exit/close.\n",
      "Select choice of option from the displayed list of options.. 5\n",
      "The contents of the Sample List is as follows...\n",
      "[30, 100]\n",
      "1. To create a new Empty List.\n",
      "2. Add a new element to the END of the List.\n",
      "3. To insert element into the list at a given INDEX.\n",
      "4. Remove element from the List.\n",
      "5. Display complete contents of the list.\n",
      "6. Search and display if a given element is in the List or not.\n",
      "7. Exit/close.\n",
      "Select choice of option from the displayed list of options.. 3\n",
      "Enter the index of the new element ::  2\n",
      "Enter the element which we want to add to the List :: 200\n",
      "Element added at the given index ::  2\n",
      "1. To create a new Empty List.\n",
      "2. Add a new element to the END of the List.\n",
      "3. To insert element into the list at a given INDEX.\n",
      "4. Remove element from the List.\n",
      "5. Display complete contents of the list.\n",
      "6. Search and display if a given element is in the List or not.\n",
      "7. Exit/close.\n",
      "Select choice of option from the displayed list of options.. 5\n",
      "The contents of the Sample List is as follows...\n",
      "[30, 100, 200]\n",
      "1. To create a new Empty List.\n",
      "2. Add a new element to the END of the List.\n",
      "3. To insert element into the list at a given INDEX.\n",
      "4. Remove element from the List.\n",
      "5. Display complete contents of the list.\n",
      "6. Search and display if a given element is in the List or not.\n",
      "7. Exit/close.\n",
      "Select choice of option from the displayed list of options.. 4\n",
      "Total number of elements in the List ::  3\n",
      "Enter valid index of the element to be removed ::-1\n",
      "Element removed/popped from the list..\n",
      "1. To create a new Empty List.\n",
      "2. Add a new element to the END of the List.\n",
      "3. To insert element into the list at a given INDEX.\n",
      "4. Remove element from the List.\n",
      "5. Display complete contents of the list.\n",
      "6. Search and display if a given element is in the List or not.\n",
      "7. Exit/close.\n",
      "Select choice of option from the displayed list of options.. 5\n",
      "The contents of the Sample List is as follows...\n",
      "[30, 100]\n",
      "1. To create a new Empty List.\n",
      "2. Add a new element to the END of the List.\n",
      "3. To insert element into the list at a given INDEX.\n",
      "4. Remove element from the List.\n",
      "5. Display complete contents of the list.\n",
      "6. Search and display if a given element is in the List or not.\n",
      "7. Exit/close.\n",
      "Select choice of option from the displayed list of options.. 6\n",
      "Enter the element you are looking for in the list :: 100\n",
      "Element is available in the list and it occurs  1 times in the list\n",
      "1. To create a new Empty List.\n",
      "2. Add a new element to the END of the List.\n",
      "3. To insert element into the list at a given INDEX.\n",
      "4. Remove element from the List.\n",
      "5. Display complete contents of the list.\n",
      "6. Search and display if a given element is in the List or not.\n",
      "7. Exit/close.\n",
      "Select choice of option from the displayed list of options.. 6\n",
      "Enter the element you are looking for in the list :: 200\n",
      "Given element is not found in the list\n",
      "1. To create a new Empty List.\n",
      "2. Add a new element to the END of the List.\n",
      "3. To insert element into the list at a given INDEX.\n",
      "4. Remove element from the List.\n",
      "5. Display complete contents of the list.\n",
      "6. Search and display if a given element is in the List or not.\n",
      "7. Exit/close.\n",
      "Select choice of option from the displayed list of options.. 7\n"
     ]
    }
   ],
   "source": [
    "menuFn()\n",
    "ch = int(input('Select choice of option from the displayed list of options.. '))\n",
    "samplist = None\n",
    "while(ch>0 and ch<=7):\n",
    "    if ch==1:\n",
    "        samplist= list()\n",
    "        print('New list object created')\n",
    "    elif ch==2 : \n",
    "        n = int(input(\"Enter new element to be appended to the List object :: \"))\n",
    "        samplist.append(n)\n",
    "        print(\"Element added to the list..\")\n",
    "    elif ch==3 : \n",
    "        idx = int(input('Enter the index of the new element ::  '))\n",
    "        n = int(input('Enter the element which we want to add to the List :: '))\n",
    "        samplist.insert(idx,n)\n",
    "        print('Element added at the given index :: ',idx)\n",
    "    elif ch==4 :\n",
    "        print(\"Total number of elements in the List :: \",len(samplist))\n",
    "        idx = int(input(\"Enter valid index of the element to be removed ::\"))\n",
    "        if(idx>=0):\n",
    "            if(idx<=len(samplist)-1):\n",
    "                samplist.pop(idx)\n",
    "                print(\"Element removed/popped from the list..\")\n",
    "        elif (idx>=-len(samplist)):\n",
    "            samplist.pop(idx)\n",
    "            print(\"Element removed/popped from the list..\")\n",
    "        else:\n",
    "            print(\"Invalid Index.\")\n",
    "    elif ch==5 :\n",
    "        print(\"The contents of the Sample List is as follows...\")\n",
    "        print(samplist)\n",
    "    elif ch==6 : \n",
    "        n = int(input(\"Enter the element you are looking for in the list :: \"))\n",
    "        if(samplist.count(n)>0):\n",
    "            print(\"Element is available in the list and it occurs \",\n",
    "                  samplist.count(n),'times in the list')\n",
    "        else:\n",
    "            print(\"Given element is not found in the list\")\n",
    "    elif ch==7:\n",
    "        break;\n",
    "    menuFn()    \n",
    "    ch = int(input('Select choice of option from the displayed list of options.. '))\n",
    "        \n",
    "    \n",
    "    "
   ]
  },
  {
   "cell_type": "code",
   "execution_count": null,
   "metadata": {},
   "outputs": [],
   "source": []
  }
 ],
 "metadata": {
  "kernelspec": {
   "display_name": "Python 3",
   "language": "python",
   "name": "python3"
  },
  "language_info": {
   "codemirror_mode": {
    "name": "ipython",
    "version": 3
   },
   "file_extension": ".py",
   "mimetype": "text/x-python",
   "name": "python",
   "nbconvert_exporter": "python",
   "pygments_lexer": "ipython3",
   "version": "3.7.1"
  }
 },
 "nbformat": 4,
 "nbformat_minor": 2
}
